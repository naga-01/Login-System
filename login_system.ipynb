{
 "cells": [
  {
   "cell_type": "code",
   "execution_count": null,
   "metadata": {},
   "outputs": [],
   "source": [
    "class Login:\n",
    "    def __init__(self, sys_id, sys_password):\n",
    "        self.sys_id = sys_id\n",
    "        self.sys_password = sys_password\n",
    "       # self.error = \"Enter a valid username and password\"\n",
    "    def check(self):\n",
    "        if (self.sys_id == log_id and self.sys_password == log_pass):\n",
    "            print(\"Login successful\")\n",
    "        else:\n",
    "            print(\"Wrong Username/Password\")\n",
    "\n",
    "log = Login(\"admin\",  \"admin\")\n",
    "log_id = input(\"Enter your user ID: \")\n",
    "log_pass = input(\"Enter password: \")\n",
    "log.check()"
   ]
  }
 ],
 "metadata": {
  "kernelspec": {
   "display_name": "Python 3",
   "language": "python",
   "name": "python3"
  },
  "language_info": {
   "codemirror_mode": {
    "name": "ipython",
    "version": 3
   },
   "file_extension": ".py",
   "mimetype": "text/x-python",
   "name": "python",
   "nbconvert_exporter": "python",
   "pygments_lexer": "ipython3",
   "version": "3.7.1"
  }
 },
 "nbformat": 4,
 "nbformat_minor": 2
}
